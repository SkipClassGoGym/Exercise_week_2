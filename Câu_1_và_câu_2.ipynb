{
 "cells": [
  {
   "cell_type": "code",
   "execution_count": 24,
   "metadata": {},
   "outputs": [
    {
     "name": "stdout",
     "output_type": "stream",
     "text": [
      "[5, 5, 5, 5, 10, 12, 33, 33]\n"
     ]
    }
   ],
   "source": [
    "num_list = [3, 4, 5, 1, -44 , 5 ,10, 12 ,33, 1]\n",
    "result = []\n",
    "left = 0\n",
    "right =  left + 3\n",
    "while right <= len(num_list) :\n",
    "    slicing = max(num_list[left:right])\n",
    "    left = left + 1\n",
    "    right = left + 3\n",
    "    result.append(slicing)\n",
    "\n",
    "print(result)"
   ]
  },
  {
   "cell_type": "code",
   "execution_count": 28,
   "metadata": {},
   "outputs": [
    {
     "name": "stdout",
     "output_type": "stream",
     "text": [
      "{'e': 1, 'i': 1, 'l': 1, 'm': 1, 's': 1}\n"
     ]
    }
   ],
   "source": [
    "def count_char (string):\n",
    "    count = {}\n",
    "    for char in string:\n",
    "        count[char] = string.count(char)\n",
    "    \n",
    "    sort_1 = sorted(count.keys())\n",
    "    sort_2 = {char: count[char] for char in sort_1}\n",
    "\n",
    "    return sort_2\n",
    "\n",
    "print(count_char('smile'))\n",
    "    "
   ]
  },
  {
   "cell_type": "code",
   "execution_count": 18,
   "metadata": {},
   "outputs": [
    {
     "name": "stdout",
     "output_type": "stream",
     "text": [
      "98\n"
     ]
    }
   ],
   "source": []
  },
  {
   "cell_type": "code",
   "execution_count": null,
   "metadata": {},
   "outputs": [],
   "source": []
  }
 ],
 "metadata": {
  "kernelspec": {
   "display_name": "Python 3",
   "language": "python",
   "name": "python3"
  },
  "language_info": {
   "codemirror_mode": {
    "name": "ipython",
    "version": 3
   },
   "file_extension": ".py",
   "mimetype": "text/x-python",
   "name": "python",
   "nbconvert_exporter": "python",
   "pygments_lexer": "ipython3",
   "version": "3.12.4"
  }
 },
 "nbformat": 4,
 "nbformat_minor": 2
}
